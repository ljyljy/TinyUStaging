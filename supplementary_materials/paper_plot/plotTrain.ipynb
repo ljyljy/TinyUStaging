{
 "cells": [
  {
   "cell_type": "code",
   "execution_count": null,
   "outputs": [],
   "source": [
    "import matplotlib.pyplot as plt\n",
    "import numpy as np\n",
    "import pandas as pd\n",
    "import os"
   ],
   "metadata": {
    "collapsed": false,
    "pycharm": {
     "name": "#%%\n"
    }
   }
  },
  {
   "cell_type": "code",
   "execution_count": null,
   "outputs": [],
   "source": [
    "proj_name = 'pro44'\n",
    "df_train = pd.read_csv(f\"{proj_name}/trained.csv\", header=0, index_col=0)\n",
    "df_train"
   ],
   "metadata": {
    "collapsed": false,
    "pycharm": {
     "name": "#%%\n"
    }
   }
  },
  {
   "cell_type": "code",
   "execution_count": null,
   "outputs": [],
   "source": [
    "datasets = ['dcsm', 'sedf_sc', 'phys', 'shhs']\n"
   ],
   "metadata": {
    "collapsed": false,
    "pycharm": {
     "name": "#%%\n"
    }
   }
  },
  {
   "cell_type": "code",
   "execution_count": null,
   "outputs": [],
   "source": [
    "def train_plot(train_val=df_train['loss'], train_label='train_loss',\n",
    "               valid_val=df_train['val_loss'], valid_label='val_loss', title=\"Loss Curve (EEG+EOG)\", proj_name='pro44'):\n",
    "    fig = plt.figure(figsize=(6, 4))\n",
    "    ax1 = fig.add_subplot(111)\n",
    "    # train_acc = ea_train_acc.scalars.Items('epoch/acc')\n",
    "    # ax1.plot([i.step for i in train_val], [i.value for i in train_val], label=train_label)\n",
    "    ax1.plot(train_val, label=train_label)\n",
    "    ax1.set_xlim(0)\n",
    "    # acc = ea_train.scalars.Items('acc')\n",
    "    # ax1.plot([i.step for i in valid_val], [i.value for i in valid_val], label=valid_label)\n",
    "    ax1.plot(valid_val, label=valid_label)\n",
    "    ax1.set_xlabel(\"epochs\")\n",
    "    ax1.set_ylabel(\"\")\n",
    "    if title:\n",
    "        plt.title(f\"Train vs Valid({title})\")\n",
    "    plt.legend(loc='upper right') # 'lower right'\n",
    "    plt.savefig(os.path.join(\"output\", proj_name,f\"{title}.png\"))\n",
    "    plt.show()\n"
   ],
   "metadata": {
    "collapsed": false,
    "pycharm": {
     "name": "#%%\n"
    }
   }
  },
  {
   "cell_type": "code",
   "execution_count": null,
   "outputs": [],
   "source": [
    "train_plot()\n"
   ],
   "metadata": {
    "collapsed": false,
    "pycharm": {
     "name": "#%%\n"
    }
   }
  },
  {
   "cell_type": "code",
   "execution_count": null,
   "outputs": [],
   "source": [
    "def train_plot(train_val=df_train['loss'], train_labels,\n",
    "               valid_val=df_train['val_loss'], valid_labels, title=\"F1 Curve (EEG+EOG)\", proj_name='pro44'):\n",
    "    fig = plt.figure(figsize=(6, 4))\n",
    "    ax1 = fig.add_subplot(111)\n",
    "    # train_acc = ea_train_acc.scalars.Items('epoch/acc')\n",
    "    # ax1.plot([i.step for i in train_val], [i.value for i in train_val], label=train_label)\n",
    "    ax1.plot(train_val, label=train_label)\n",
    "    ax1.set_xlim(0)\n",
    "    # acc = ea_train.scalars.Items('acc')\n",
    "    # ax1.plot([i.step for i in valid_val], [i.value for i in valid_val], label=valid_label)\n",
    "    ax1.plot(valid_val, label=valid_label)\n",
    "    ax1.set_xlabel(\"epochs\")\n",
    "    ax1.set_ylabel(\"\")\n",
    "    if title:\n",
    "        plt.title(f\"Train vs Valid({title})\")\n",
    "    plt.legend(loc='upper right') # 'lower right'\n",
    "    plt.savefig(os.path.join(\"output\", proj_name,f\"{title}.png\"))\n",
    "    plt.show()\n"
   ],
   "metadata": {
    "collapsed": false,
    "pycharm": {
     "name": "#%%\n"
    }
   }
  }
 ],
 "metadata": {
  "kernelspec": {
   "name": "ljy",
   "language": "python",
   "display_name": "LJY"
  },
  "language_info": {
   "codemirror_mode": {
    "name": "ipython",
    "version": 2
   },
   "file_extension": ".py",
   "mimetype": "text/x-python",
   "name": "python",
   "nbconvert_exporter": "python",
   "pygments_lexer": "ipython2",
   "version": "2.7.6"
  }
 },
 "nbformat": 4,
 "nbformat_minor": 0
}